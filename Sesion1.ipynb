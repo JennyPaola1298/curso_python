{
  "nbformat": 4,
  "nbformat_minor": 0,
  "metadata": {
    "colab": {
      "name": "Sesion1.ipynb",
      "provenance": [],
      "collapsed_sections": [],
      "authorship_tag": "ABX9TyNVo5Bp3L3u1P6y431IYLVs",
      "include_colab_link": true
    },
    "kernelspec": {
      "name": "python3",
      "display_name": "Python 3"
    },
    "language_info": {
      "name": "python"
    }
  },
  "cells": [
    {
      "cell_type": "markdown",
      "metadata": {
        "id": "view-in-github",
        "colab_type": "text"
      },
      "source": [
        "<a href=\"https://colab.research.google.com/github/JennyPaola1298/curso_python/blob/main/Sesion1.ipynb\" target=\"_parent\"><img src=\"https://colab.research.google.com/assets/colab-badge.svg\" alt=\"Open In Colab\"/></a>"
      ]
    },
    {
      "cell_type": "markdown",
      "source": [
        "Ejemplo de reescritura y palabras reservadas"
      ],
      "metadata": {
        "id": "1PKa0loP9RMp"
      }
    },
    {
      "cell_type": "code",
      "source": [
        "divmod(2,2) #división entera y el residuo"
      ],
      "metadata": {
        "colab": {
          "base_uri": "https://localhost:8080/"
        },
        "id": "YBTRtawT9jPB",
        "outputId": "707c87be-33d9-4668-82ee-c428c79708bd"
      },
      "execution_count": 1,
      "outputs": [
        {
          "output_type": "execute_result",
          "data": {
            "text/plain": [
              "(1, 0)"
            ]
          },
          "metadata": {},
          "execution_count": 1
        }
      ]
    },
    {
      "cell_type": "markdown",
      "source": [
        "Booleano #Solo puede tener dos valores 1 y 0"
      ],
      "metadata": {
        "id": "S1effPsP_vlB"
      }
    },
    {
      "cell_type": "code",
      "source": [
        "#x or y\n",
        "#Si x es falso, entonces y, de lo contrario x\n",
        "\n",
        "#x and y\n",
        "#Si x es falso, entonces x, de lo contrario y\n",
        "\n",
        "\n",
        "#not x\n",
        "#Si x es false, entonces true, de lo contrario false"
      ],
      "metadata": {
        "id": "lvnN2Ati_z-H"
      },
      "execution_count": 3,
      "outputs": []
    },
    {
      "cell_type": "markdown",
      "source": [
        "Ejemplo bool() ¿vacio o no?"
      ],
      "metadata": {
        "id": "GCgcPN4PCine"
      }
    },
    {
      "cell_type": "code",
      "source": [
        "print(bool([1,3,5]))\n",
        "print(bool(0))"
      ],
      "metadata": {
        "colab": {
          "base_uri": "https://localhost:8080/"
        },
        "id": "9XJ0jxDqColO",
        "outputId": "7dbf0eb6-e713-422e-fa4c-70682b51704c"
      },
      "execution_count": 5,
      "outputs": [
        {
          "output_type": "stream",
          "name": "stdout",
          "text": [
            "True\n",
            "False\n"
          ]
        }
      ]
    },
    {
      "cell_type": "code",
      "source": [
        "id() #id es la posición en la memoria"
      ],
      "metadata": {
        "id": "3vkNPJ66DWGW"
      },
      "execution_count": null,
      "outputs": []
    },
    {
      "cell_type": "code",
      "source": [
        "a=2\n",
        "b=9"
      ],
      "metadata": {
        "id": "TR16m3_5DaIN"
      },
      "execution_count": 6,
      "outputs": []
    },
    {
      "cell_type": "code",
      "source": [
        "print(id(a))\n",
        "print(id(b))"
      ],
      "metadata": {
        "colab": {
          "base_uri": "https://localhost:8080/"
        },
        "id": "90AicoiJDtud",
        "outputId": "bbc5f669-e930-4226-8e8c-757fa6f20c4a"
      },
      "execution_count": 10,
      "outputs": [
        {
          "output_type": "stream",
          "name": "stdout",
          "text": [
            "11256096\n",
            "11256320\n"
          ]
        }
      ]
    },
    {
      "cell_type": "markdown",
      "source": [
        "Tipo string"
      ],
      "metadata": {
        "id": "M3my5OjEFWfN"
      }
    },
    {
      "cell_type": "markdown",
      "source": [
        "\"xyz\" o 'xyz'"
      ],
      "metadata": {
        "id": "W9bZVSezFeHE"
      }
    },
    {
      "cell_type": "code",
      "source": [
        "nombre='jenny'"
      ],
      "metadata": {
        "id": "NY2ekAZkFYjN"
      },
      "execution_count": 11,
      "outputs": []
    },
    {
      "cell_type": "code",
      "source": [
        "print(nombre[0])\n",
        "#con nombre[-1] me dirige de una al final"
      ],
      "metadata": {
        "colab": {
          "base_uri": "https://localhost:8080/"
        },
        "id": "MImTreAvFvlU",
        "outputId": "71354a22-3987-4fae-e9c4-9edb7a8c1fd3"
      },
      "execution_count": 12,
      "outputs": [
        {
          "output_type": "stream",
          "name": "stdout",
          "text": [
            "j\n"
          ]
        }
      ]
    },
    {
      "cell_type": "code",
      "source": [
        "nombre.capitalize()"
      ],
      "metadata": {
        "colab": {
          "base_uri": "https://localhost:8080/",
          "height": 36
        },
        "id": "D9N0Z4BZG8lN",
        "outputId": "76ca1e85-7530-4e4a-f4a8-c8fc216ff500"
      },
      "execution_count": 13,
      "outputs": [
        {
          "output_type": "execute_result",
          "data": {
            "text/plain": [
              "'Jenny'"
            ],
            "application/vnd.google.colaboratory.intrinsic+json": {
              "type": "string"
            }
          },
          "metadata": {},
          "execution_count": 13
        }
      ]
    },
    {
      "cell_type": "code",
      "source": [
        "dir(nombre)"
      ],
      "metadata": {
        "id": "A9MPoT3LIsN9"
      },
      "execution_count": null,
      "outputs": []
    },
    {
      "cell_type": "code",
      "source": [
        "nombre.upper()"
      ],
      "metadata": {
        "id": "J_-1UV5QIy26"
      },
      "execution_count": null,
      "outputs": []
    },
    {
      "cell_type": "code",
      "source": [
        "cadena= 'jennypaola'\n",
        "cadena.find('j')"
      ],
      "metadata": {
        "colab": {
          "base_uri": "https://localhost:8080/"
        },
        "id": "jZVMVG3FJjp2",
        "outputId": "85d9683f-cd51-4af3-fb6d-f60b521ee2c1"
      },
      "execution_count": 31,
      "outputs": [
        {
          "output_type": "execute_result",
          "data": {
            "text/plain": [
              "0"
            ]
          },
          "metadata": {},
          "execution_count": 31
        }
      ]
    },
    {
      "cell_type": "code",
      "source": [
        "lista1=list(cadena)\n",
        "lista1"
      ],
      "metadata": {
        "colab": {
          "base_uri": "https://localhost:8080/"
        },
        "id": "zPuEYdJbKoEA",
        "outputId": "26c5a6fd-669c-4838-cdb7-aafee9c225e9"
      },
      "execution_count": 32,
      "outputs": [
        {
          "output_type": "execute_result",
          "data": {
            "text/plain": [
              "['j', 'e', 'n', 'n', 'y', 'p', 'a', 'o', 'l', 'a']"
            ]
          },
          "metadata": {},
          "execution_count": 32
        }
      ]
    },
    {
      "cell_type": "code",
      "source": [
        "lista1[0]='G'\n",
        "lista1"
      ],
      "metadata": {
        "colab": {
          "base_uri": "https://localhost:8080/"
        },
        "id": "PONwffbxKuLp",
        "outputId": "f16826c7-0882-46b9-d2a0-ef49e9462db7"
      },
      "execution_count": 33,
      "outputs": [
        {
          "output_type": "execute_result",
          "data": {
            "text/plain": [
              "['G', 'e', 'n', 'n', 'y', 'p', 'a', 'o', 'l', 'a']"
            ]
          },
          "metadata": {},
          "execution_count": 33
        }
      ]
    },
    {
      "cell_type": "code",
      "source": [
        "cadena_mod= ''.join(lista1)\n",
        "print(cadena_mod)"
      ],
      "metadata": {
        "colab": {
          "base_uri": "https://localhost:8080/"
        },
        "id": "pnqoiZ4hK2IS",
        "outputId": "8396ff5a-23fc-49e7-94f5-4aee51d92867"
      },
      "execution_count": 34,
      "outputs": [
        {
          "output_type": "stream",
          "name": "stdout",
          "text": [
            "Gennypaola\n"
          ]
        }
      ]
    }
  ]
}